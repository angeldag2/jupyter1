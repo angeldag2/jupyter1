{
 "cells": [
  {
   "cell_type": "markdown",
   "id": "62ef8b14-d962-4081-a667-11274e281fcb",
   "metadata": {},
   "source": [
    "# Data Science Tools and Ecosystem"
   ]
  },
  {
   "cell_type": "markdown",
   "id": "f1fa60e9-424f-433e-b10b-0b6d074cb827",
   "metadata": {},
   "source": [
    "In this notebook, Data Science Tools and Ecosystem are summarized"
   ]
  },
  {
   "cell_type": "markdown",
   "id": "22918745-3112-4a41-8394-801988cc8337",
   "metadata": {},
   "source": [
    "**Objectives:**\n",
    "- List popular languages for data science\n",
    "- List commonly used libraries for data science\n",
    "- Comment in the python code\n",
    "- Understand arithmetic expressions"
   ]
  },
  {
   "cell_type": "markdown",
   "id": "a8efcdf9-3983-4508-a624-a7b8cbb460bf",
   "metadata": {},
   "source": [
    "Some of the popular languages that Data Scientists use are:\n",
    "1. Python\n",
    "2. R\n",
    "3. SQL"
   ]
  },
  {
   "cell_type": "markdown",
   "id": "cb93528d-1386-434d-bb3d-bb700ab1d1f6",
   "metadata": {},
   "source": [
    "Some of the commonly used libraries used by Data Scientists include:\n",
    "1. Pandas\n",
    "2. NumPy\n",
    "3. Plotly"
   ]
  },
  {
   "cell_type": "markdown",
   "id": "b3eb713d-57e1-4232-b7cb-31b006398283",
   "metadata": {},
   "source": [
    "| Data science tools  |\n",
    "|---------------|\n",
    "|  Jupyter Notebook  |\n",
    "|  Rstudio  |\n",
    "|  JupyterLab  |"
   ]
  },
  {
   "cell_type": "markdown",
   "id": "bd169225-bc62-4365-9807-0c490709529d",
   "metadata": {},
   "source": [
    "### Below are a few examples of evaluating arithmetic expressions in Python"
   ]
  },
  {
   "cell_type": "code",
   "execution_count": 1,
   "id": "f8aa86cd-428f-4318-a427-1650c9bd699a",
   "metadata": {
    "tags": []
   },
   "outputs": [
    {
     "data": {
      "text/plain": [
       "17"
      ]
     },
     "execution_count": 1,
     "metadata": {},
     "output_type": "execute_result"
    }
   ],
   "source": [
    "# This a simple arithmetic expression to mutiply then add integers\n",
    "(3*4)+5"
   ]
  },
  {
   "cell_type": "code",
   "execution_count": 2,
   "id": "3c82987b-a946-43be-86f5-d6ed6993e9a5",
   "metadata": {
    "tags": []
   },
   "outputs": [
    {
     "name": "stdout",
     "output_type": "stream",
     "text": [
      "3.3333333333333335\n"
     ]
    }
   ],
   "source": [
    "# This will convert 200 minutes to hours by diving by 60\n",
    "minutes = 200\n",
    "hours = minutes / 60\n",
    "print(hours)\n"
   ]
  },
  {
   "cell_type": "markdown",
   "id": "cd4184a1-9fbe-43a1-be40-dcd63d5b59de",
   "metadata": {},
   "source": [
    "## Author\n",
    "Angel Almeida\n"
   ]
  },
  {
   "cell_type": "code",
   "execution_count": null,
   "id": "2d569638-a057-4340-97f5-87da7cad6406",
   "metadata": {},
   "outputs": [],
   "source": []
  }
 ],
 "metadata": {
  "kernelspec": {
   "display_name": "Python",
   "language": "python",
   "name": "conda-env-python-py"
  },
  "language_info": {
   "codemirror_mode": {
    "name": "ipython",
    "version": 3
   },
   "file_extension": ".py",
   "mimetype": "text/x-python",
   "name": "python",
   "nbconvert_exporter": "python",
   "pygments_lexer": "ipython3",
   "version": "3.7.12"
  }
 },
 "nbformat": 4,
 "nbformat_minor": 5
}
